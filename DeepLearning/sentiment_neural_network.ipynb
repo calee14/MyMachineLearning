{
  "nbformat": 4,
  "nbformat_minor": 0,
  "metadata": {
    "colab": {
      "name": "sentiment_neural_network.ipynb",
      "version": "0.3.2",
      "provenance": [],
      "collapsed_sections": []
    },
    "kernelspec": {
      "name": "python3",
      "display_name": "Python 3"
    }
  },
  "cells": [
    {
      "metadata": {
        "id": "RApJr94K6Rbt",
        "colab_type": "text"
      },
      "cell_type": "markdown",
      "source": [
        "# Process data cell"
      ]
    },
    {
      "metadata": {
        "id": "85RgBYaf6PMV",
        "colab_type": "code",
        "colab": {
          "base_uri": "https://localhost:8080/",
          "height": 34
        },
        "outputId": "b31e49ad-e835-4251-e6d3-c11861ef50c1"
      },
      "cell_type": "code",
      "source": [
        "# Load the Drive helper and mount\n",
        "from google.colab import drive\n",
        "\n",
        "# This will proot for authorization\n",
        "drive.mount('/content/drive')\n",
        "\n",
        "import nltk\n",
        "from nltk.tokenize import word_tokenize\n",
        "from nltk.stem import WordNetLemmatizer\n",
        "import numpy as np\n",
        "import random\n",
        "import pickle\n",
        "from collections import Counter\n",
        "import io\n",
        "\n",
        "lemmatizer = WordNetLemmatizer()\n",
        "hm_lines = 10000000\n",
        "\n",
        "def create_lexicon(pos, neg):\n",
        "  lexicon = []\n",
        "  for fi in [pos, neg]:\n",
        "    with io.open(fi, 'r', encoding='cp437') as f:\n",
        "      contents = f.readlines()\n",
        "      for l in contents[:hm_lines]:\n",
        "        all_words = word_tokenize(l.lower())\n",
        "        lexicon += list(all_words)\n",
        "  \n",
        "  lexicon = [lemmatizer.lemmatize(i) for i in lexicon]\n",
        "  w_counts = Counter(lexicon)\n",
        "  l2 = []\n",
        "  for w in w_counts:\n",
        "    if 1000 > w_counts[w] > 50:\n",
        "      l2.append(w)\n",
        "  print(len(l2))\n",
        "  return l2\n",
        "  \n",
        "def sample_handling(sample, lexicon, classification):\n",
        "  featureset = []\n",
        "  \n",
        "  with io.open(sample, 'r', encoding='cp437') as f:\n",
        "    contents = f.readlines()\n",
        "    for l in contents[:hm_lines]:\n",
        "      current_words = word_tokenize(l.lower())\n",
        "      current_words = [lemmatizer.lemmatize(i) for i in current_words]\n",
        "      features = np.zeros(len(lexicon))\n",
        "      for word in current_words:\n",
        "        if word.lower() in lexicon:\n",
        "          index_value = lexicon.index(word.lower())\n",
        "          features[index_value] += 1\n",
        "      features = list(features)\n",
        "      featureset.append([features, classification])\n",
        "      \n",
        "  return featureset\n",
        "\n",
        "def create_feature_sets_and_labels(pos, neg, test_size=0.1):\n",
        "  lexicon = create_lexicon(pos, neg)\n",
        "  features = []\n",
        "  pos_path = '/content/drive/My Drive/Colab Notebooks/ProcessingOurOwnData/pos.txt'\n",
        "  neg_path = '/content/drive/My Drive/Colab Notebooks/ProcessingOurOwnData/neg.txt'\n",
        "  features += sample_handling(pos_path, lexicon, [1, 0])\n",
        "  features += sample_handling(neg_path, lexicon, [0, 1])\n",
        "  random.shuffle(features)\n",
        "  \n",
        "  '''\n",
        "  does tf.argmax([output]) == tf.argmax([expectations])\n",
        "  tf.argmax([4234, 7923]) == tf.argmax([1, 0])\n",
        "  # neural net will try to shift weights to make statement true\n",
        "  '''\n",
        "  features = np.array(features)\n",
        "  testing_size = int(test_size*len(features))\n",
        "  \n",
        "  train_x = list(features[:,0][:-testing_size])\n",
        "  train_y = list(features[:,1][:-testing_size])\n",
        "  \n",
        "  test_x = list(features[:,0][-testing_size:])\n",
        "  test_y = list(features[:,1][-testing_size:])\n",
        "  \n",
        "  return train_x, train_y, test_x, test_y"
      ],
      "execution_count": 9,
      "outputs": [
        {
          "output_type": "stream",
          "text": [
            "Mounted at /content/drive\n"
          ],
          "name": "stdout"
        }
      ]
    },
    {
      "metadata": {
        "id": "C8lbnURM6YrR",
        "colab_type": "text"
      },
      "cell_type": "markdown",
      "source": [
        "# Run the data into the neural network"
      ]
    },
    {
      "metadata": {
        "id": "HEANCjjb5W4L",
        "colab_type": "code",
        "colab": {
          "base_uri": "https://localhost:8080/",
          "height": 221
        },
        "outputId": "42f5994b-bcd1-4101-b91d-0267a0d43e34"
      },
      "cell_type": "code",
      "source": [
        "import tensorflow as tf\n",
        "\n",
        "pos_path = '/content/drive/My Drive/Colab Notebooks/ProcessingOurOwnData/pos.txt'\n",
        "neg_path = '/content/drive/My Drive/Colab Notebooks/ProcessingOurOwnData/neg.txt'\n",
        "train_x, train_y, test_x, test_y = create_feature_sets_and_labels(pos_path, neg_path)\n",
        "\n",
        "n_nodes_hl1 = 500\n",
        "n_nodes_hl2 = 500\n",
        "n_nodes_hl3 = 500\n",
        "\n",
        "n_classes = 2\n",
        "batch_size = 100\n",
        "\n",
        "x = tf.placeholder('float', [None, len(train_x[0])])\n",
        "y = tf.placeholder('float')\n",
        "\n",
        "def neural_network_model(data):\n",
        "    hidden_1_layer = {'weights':tf.Variable(tf.random_normal([len(train_x[0]), n_nodes_hl1])),\n",
        "                      'biases':tf.Variable(tf.random_normal([n_nodes_hl1]))}\n",
        "\n",
        "    hidden_2_layer = {'weights':tf.Variable(tf.random_normal([n_nodes_hl1, n_nodes_hl2])),\n",
        "                      'biases':tf.Variable(tf.random_normal([n_nodes_hl2]))}\n",
        "\n",
        "    hidden_3_layer = {'weights':tf.Variable(tf.random_normal([n_nodes_hl2, n_nodes_hl3])),\n",
        "                      'biases':tf.Variable(tf.random_normal([n_nodes_hl3]))}\n",
        "\n",
        "    output_layer = {'weights':tf.Variable(tf.random_normal([n_nodes_hl3, n_classes])),\n",
        "                    'biases':tf.Variable(tf.random_normal([n_classes])),}\n",
        "\n",
        "\n",
        "    l1 = tf.add(tf.matmul(data,hidden_1_layer['weights']), hidden_1_layer['biases'])\n",
        "    l1 = tf.nn.relu(l1)\n",
        "\n",
        "    l2 = tf.add(tf.matmul(l1,hidden_2_layer['weights']), hidden_2_layer['biases'])\n",
        "    l2 = tf.nn.relu(l2)\n",
        "\n",
        "    l3 = tf.add(tf.matmul(l2,hidden_3_layer['weights']), hidden_3_layer['biases'])\n",
        "    l3 = tf.nn.relu(l3)\n",
        "\n",
        "    output = tf.matmul(l3,output_layer['weights']) + output_layer['biases']\n",
        "\n",
        "    return output\n",
        "\n",
        "def train_neural_network(x):\n",
        "    prediction = neural_network_model(x)\n",
        "    # OLD VERSION:\n",
        "    #cost = tf.reduce_mean( tf.nn.softmax_cross_entropy_with_logits(prediction,y) )\n",
        "    # NEW:\n",
        "    cost = tf.reduce_mean( tf.nn.softmax_cross_entropy_with_logits(logits=prediction, labels=y) )\n",
        "    optimizer = tf.train.AdamOptimizer().minimize(cost)\n",
        "    \n",
        "    hm_epochs = 10\n",
        "    with tf.Session() as sess:\n",
        "        # OLD:\n",
        "        #sess.run(tf.initialize_all_variables())\n",
        "        # NEW:\n",
        "        sess.run(tf.global_variables_initializer())\n",
        "\n",
        "        for epoch in range(hm_epochs):\n",
        "            epoch_loss = 0\n",
        "            \n",
        "            i = 0\n",
        "            while i < len(train_x):\n",
        "              start = i\n",
        "              end = i+batch_size\n",
        "              \n",
        "              batch_x = np.array(train_x[start:end])\n",
        "              batch_y = np.array(train_y[start:end])\n",
        "              \n",
        "              _, c = sess.run([optimizer, cost], feed_dict={x: batch_x, y: batch_y})\n",
        "              epoch_loss += c\n",
        "              i += batch_size\n",
        "              \n",
        "            print('Epoch', epoch+1, 'completed out of',hm_epochs,'loss:',epoch_loss)\n",
        "\n",
        "        correct = tf.equal(tf.argmax(prediction, 1), tf.argmax(y, 1))\n",
        "\n",
        "        accuracy = tf.reduce_mean(tf.cast(correct, 'float'))\n",
        "        print('Accuracy:',accuracy.eval({x:test_x, y:test_y}))\n",
        "\n",
        "train_neural_network(x)"
      ],
      "execution_count": 10,
      "outputs": [
        {
          "output_type": "stream",
          "text": [
            "423\n",
            "Epoch 1 completed out of 10 loss: 246572.97900390625\n",
            "Epoch 2 completed out of 10 loss: 116631.92590332031\n",
            "Epoch 3 completed out of 10 loss: 71234.6969909668\n",
            "Epoch 4 completed out of 10 loss: 48191.06187438965\n",
            "Epoch 5 completed out of 10 loss: 34388.94721984863\n",
            "Epoch 6 completed out of 10 loss: 25208.71479034424\n",
            "Epoch 7 completed out of 10 loss: 19681.99220275879\n",
            "Epoch 8 completed out of 10 loss: 18565.751735687256\n",
            "Epoch 9 completed out of 10 loss: 22584.425861358643\n",
            "Epoch 10 completed out of 10 loss: 17088.36088323593\n",
            "Accuracy: 0.5694184\n"
          ],
          "name": "stdout"
        }
      ]
    }
  ]
}