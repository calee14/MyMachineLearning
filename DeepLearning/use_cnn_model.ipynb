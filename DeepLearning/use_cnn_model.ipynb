{
  "nbformat": 4,
  "nbformat_minor": 0,
  "metadata": {
    "colab": {
      "name": "use_cnn_model.ipynb",
      "version": "0.3.2",
      "provenance": []
    }
  },
  "cells": [
    {
      "metadata": {
        "id": "_fH0M6eUXXr8",
        "colab_type": "code",
        "colab": {}
      },
      "cell_type": "code",
      "source": [
        "# Load the Drive helper and mount\n",
        "from google.colab import drive\n",
        "\n",
        "# This will proot for authorization\n",
        "drive.mount('/content/drive')\n",
        "\n",
        "import cv2\n",
        "import tensorflow as tf\n",
        "\n",
        "CATEGORIES = [\"Dog\", \"Cat\"]\n",
        "\n",
        "def prepare(filepath):\n",
        "  IMG_SIZE = 50\n",
        "  img_array = cv2.imread(filepath, cv2.IMREAD_GRAYSCALE)\n",
        "  new_array = cv2.resize(img_array, (IMG_SIZE, IMG_SIZE))\n",
        "  return new_array.reshape(-1, IMG_SIZE, IMG_SIZE, 1)\n",
        "\n",
        "model = tf.keras.models.load_model(\"/content/drive/My Drive/Colab Notebooks/cnn_own_data/64x3-CNN.model\")\n",
        "\n",
        "prediction = model.predict([prepare('/content/drive/My Drive/Colab Notebooks/cnn_own_data/cat.jpg')])\n",
        "print(prediction)"
      ],
      "execution_count": 0,
      "outputs": []
    },
    {
      "metadata": {
        "id": "p0rpEy1BayjP",
        "colab_type": "code",
        "colab": {}
      },
      "cell_type": "code",
      "source": [
        "prediction = model.predict([prepare('/content/drive/My Drive/Colab Notebooks/cnn_own_data/dog.jpg')])\n",
        "print( CATEGORIES[int(prediction[0][0])])"
      ],
      "execution_count": 0,
      "outputs": []
    }
  ]
}