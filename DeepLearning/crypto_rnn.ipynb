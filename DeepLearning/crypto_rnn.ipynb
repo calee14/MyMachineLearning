{
  "nbformat": 4,
  "nbformat_minor": 0,
  "metadata": {
    "colab": {
      "name": "crypto_rnn.ipynb",
      "version": "0.3.2",
      "provenance": [],
      "collapsed_sections": []
    },
    "kernelspec": {
      "name": "python3",
      "display_name": "Python 3"
    },
    "accelerator": "GPU"
  },
  "cells": [
    {
      "metadata": {
        "id": "Js_kfp_9GLNM",
        "colab_type": "code",
        "colab": {
          "base_uri": "https://localhost:8080/",
          "height": 153
        },
        "outputId": "97688486-4440-438c-ba03-dff2de52f2fb"
      },
      "cell_type": "code",
      "source": [
        "# Load the Drive helper and mount\n",
        "from google.colab import drive\n",
        "\n",
        "# This will proot for authorization\n",
        "drive.mount('/content/drive')\n",
        "\n",
        "import pandas as pd\n",
        "import os\n",
        "\n",
        "SEQ_LEN = 60 # how long of a proceeding sequence to collect for RNN\n",
        "FUTURE_PERIOD_PREDICT = 3 # how far into the future are we trying to predict?\n",
        "RATIO_TO_PREDICT = \"LTC-USD\"\n",
        "\n",
        "def classify(current, future):\n",
        "  if float(future) > float(current):\n",
        "    return 1\n",
        "  else:\n",
        "    return 0\n",
        "\n",
        "# take featuresets and combine them into sequences of 60 of these featuresets\n",
        "\n",
        "main_df = pd.DataFrame() # begin empty\n",
        "\n",
        "ratios = [\"BTC-USD\", \"LTC-USD\", \"ETH-USD\", \"BCH-USD\"] # the 4 ratios we want to consider\n",
        "for ratio in ratios: # begin iteration\n",
        "  dataset = f\"/content/drive/My Drive/Colab Notebooks/crypto/crypto_data/{ratio}.csv\" # get full path to the file\n",
        "  \n",
        "  df = pd.read_csv(dataset, names=[\"time\", \"low\", \"high\", \"open\", \"close\", \"volume\"]) # read in specific file\n",
        "  \n",
        "  # renaming volume and close to include the ticker so we can see which close/volume is which\n",
        "  df.rename(columns={\"close\": f\"{ratio}_close\", \"volume\": f\"{ratio}_volume\"}, inplace=True)\n",
        "  \n",
        "  df.set_index(\"time\", inplace=True) # set time as index so we can join them on this shared time\n",
        "  df = df[[f\"{ratio}_close\", f\"{ratio}_volume\"]] # ignore the other columns besides price and volume\n",
        "  \n",
        "  if len(main_df) == 0: # if the dataframe is empty\n",
        "    main_df = df # then it's just the\n",
        "  else: # otherwise, join this data to the main one\n",
        "    main_df = main_df.join(df)\n",
        "  \n",
        "main_df[\"future\"] = main_df[f\"{RATIO_TO_PREDICT}_close\"].shift(-FUTURE_PERIOD_PREDICT)\n",
        "\n",
        "main_df[\"target\"] = list(map(classify, main_df[f\"{RATIO_TO_PREDICT}_close\"], main_df[\"future\"]))\n",
        "\n",
        "print(main_df[[f\"{RATIO_TO_PREDICT}_close\", \"future\", \"target\"]].head())"
      ],
      "execution_count": 11,
      "outputs": [
        {
          "output_type": "stream",
          "text": [
            "Mounted at /content/drive\n",
            "            LTC-USD_close     future  target\n",
            "time                                        \n",
            "1528968660      96.580002  96.500000       0\n",
            "1528968720      96.660004  96.389999       0\n",
            "1528968780      96.570000  96.519997       0\n",
            "1528968840      96.500000  96.440002       0\n",
            "1528968900      96.389999  96.470001       1\n"
          ],
          "name": "stdout"
        }
      ]
    }
  ]
}