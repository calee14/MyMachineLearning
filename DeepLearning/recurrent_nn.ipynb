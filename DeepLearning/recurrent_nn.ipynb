{
  "nbformat": 4,
  "nbformat_minor": 0,
  "metadata": {
    "colab": {
      "name": "recurrent_nn.ipynb",
      "version": "0.3.2",
      "provenance": []
    },
    "kernelspec": {
      "name": "python2",
      "display_name": "Python 2"
    },
    "accelerator": "GPU"
  },
  "cells": [
    {
      "metadata": {
        "id": "9NT64_ulOjBE",
        "colab_type": "code",
        "colab": {
          "base_uri": "https://localhost:8080/",
          "height": 309
        },
        "outputId": "bfd9f91b-581f-4c69-a72b-ddb67645275a"
      },
      "cell_type": "code",
      "source": [
        "import tensorflow as tf\n",
        "from tensorflow.examples.tutorials.mnist import input_data\n",
        "from tensorflow.python.ops import rnn, rnn_cell\n",
        "\n",
        "mnist = input_data.read_data_sets(\"/tmp/data/\", one_hot = True)\n",
        "\n",
        "hm_epochs = 3\n",
        "n_classes = 10\n",
        "batch_size = 128\n",
        "chunk_size = 28\n",
        "n_chunks = 28\n",
        "rnn_size = 128\n",
        "\n",
        "x = tf.placeholder('float', [None, n_chunks, chunk_size])\n",
        "y = tf.placeholder('float')\n",
        "\n",
        "def recurrent_neural_network(x):\n",
        "    layer = {'weights':tf.Variable(tf.random_normal([rnn_size, n_classes])),\n",
        "             'biases':tf.Variable(tf.random_normal([n_classes]))}\n",
        "    \n",
        "    # modify data\n",
        "    # reshape to comply with rnn_cell's requirements\n",
        "    x = tf.transpose(x, [1,0,2])\n",
        "    x = tf.reshape(x, [-1, chunk_size])\n",
        "    x = tf.split(x, n_chunks, 0)\n",
        "    \n",
        "    lstm_cell = rnn_cell.BasicLSTMCell(rnn_size)\n",
        "    outputs, states = rnn.static_rnn(lstm_cell, x, dtype=tf.float32)\n",
        "    \n",
        "    output = tf.matmul(outputs[-1],layer['weights']) + layer['biases']\n",
        "\n",
        "    return output\n",
        "\n",
        "def train_neural_network(x):\n",
        "    prediction = recurrent_neural_network(x)\n",
        "    # OLD VERSION:\n",
        "    #cost = tf.reduce_mean( tf.nn.softmax_cross_entropy_with_logits(prediction,y) )\n",
        "    # NEW:\n",
        "    cost = tf.reduce_mean( tf.nn.softmax_cross_entropy_with_logits(logits=prediction, labels=y) )\n",
        "    optimizer = tf.train.AdamOptimizer().minimize(cost)\n",
        "    \n",
        "    with tf.Session() as sess:\n",
        "        # OLD:\n",
        "        #sess.run(tf.initialize_all_variables())\n",
        "        # NEW:\n",
        "        sess.run(tf.global_variables_initializer())\n",
        "\n",
        "        for epoch in range(hm_epochs):\n",
        "            epoch_loss = 0\n",
        "            for _ in range(int(mnist.train.num_examples/batch_size)):\n",
        "                epoch_x, epoch_y = mnist.train.next_batch(batch_size)\n",
        "                epoch_x = epoch_x.reshape((batch_size, n_chunks, chunk_size))\n",
        "                _, c = sess.run([optimizer, cost], feed_dict={x: epoch_x, y: epoch_y})\n",
        "                epoch_loss += c\n",
        "\n",
        "            print('Epoch', epoch, 'completed out of',hm_epochs,'loss:',epoch_loss)\n",
        "\n",
        "        correct = tf.equal(tf.argmax(prediction, 1), tf.argmax(y, 1))\n",
        "\n",
        "        accuracy = tf.reduce_mean(tf.cast(correct, 'float'))\n",
        "        print('Accuracy:',accuracy.eval({x:mnist.test.images.reshape(-1, n_chunks, chunk_size), y:mnist.test.labels}))\n",
        "\n",
        "train_neural_network(x)"
      ],
      "execution_count": 4,
      "outputs": [
        {
          "output_type": "stream",
          "text": [
            "Extracting /tmp/data/train-images-idx3-ubyte.gz\n",
            "Extracting /tmp/data/train-labels-idx1-ubyte.gz\n",
            "Extracting /tmp/data/t10k-images-idx3-ubyte.gz\n",
            "Extracting /tmp/data/t10k-labels-idx1-ubyte.gz\n",
            "WARNING:tensorflow:From <ipython-input-4-4e0827d249a5>:39: softmax_cross_entropy_with_logits (from tensorflow.python.ops.nn_ops) is deprecated and will be removed in a future version.\n",
            "Instructions for updating:\n",
            "\n",
            "Future major versions of TensorFlow will allow gradients to flow\n",
            "into the labels input on backprop by default.\n",
            "\n",
            "See `tf.nn.softmax_cross_entropy_with_logits_v2`.\n",
            "\n",
            "('Epoch', 0, 'completed out of', 3, 'loss:', 180.15786459296942)\n",
            "('Epoch', 1, 'completed out of', 3, 'loss:', 54.59552045352757)\n",
            "('Epoch', 2, 'completed out of', 3, 'loss:', 37.56369851715863)\n",
            "('Accuracy:', 0.9767)\n"
          ],
          "name": "stdout"
        }
      ]
    }
  ]
}