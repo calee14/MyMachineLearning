{
  "nbformat": 4,
  "nbformat_minor": 0,
  "metadata": {
    "colab": {
      "name": "optimize_cnn_keras.ipynb",
      "version": "0.3.2",
      "provenance": [],
      "collapsed_sections": []
    },
    "kernelspec": {
      "name": "python3",
      "display_name": "Python 3"
    },
    "accelerator": "GPU"
  },
  "cells": [
    {
      "metadata": {
        "id": "fHlgQKo2Gkh0",
        "colab_type": "code",
        "colab": {
          "base_uri": "https://localhost:8080/",
          "height": 102
        },
        "outputId": "5201b4ae-d39e-4ff6-f294-697e14936828"
      },
      "cell_type": "code",
      "source": [
        "# Get tensorboard running in the background\n",
        "LOG_DIR = '/tmp/log'\n",
        "get_ipython().system_raw(\n",
        "    'tensorboard --logdir {} --host 0.0.0.0 --port 6006 &'\n",
        "    .format(LOG_DIR)\n",
        ")\n",
        "\n",
        "# Download and unzip ngrok\n",
        "! wget https://bin.equinox.io/c/4VmDzA7iaHb/ngrok-stable-linux-amd64.zip\n",
        "! unzip ngrok-stable-linux-amd64.zip\n",
        "\n",
        "# Launch ngrok background process\n",
        "get_ipython().system_raw('./ngrok http 6006 &')\n",
        "\n",
        "# Retrive public url\n",
        "! curl -s http://localhost:4040/api/tunnels | python3 -c \\\n",
        "    \"import sys, json; print(json.load(sys.stdin)['tunnels'][0]['public_url'])\""
      ],
      "execution_count": 7,
      "outputs": [
        {
          "output_type": "stream",
          "text": [
            "\n",
            "Redirecting output to ‘wget-log’.\n",
            "Archive:  ngrok-stable-linux-amd64.zip\n",
            "  inflating: ngrok                   \n",
            "https://1c743d52.ngrok.io\n"
          ],
          "name": "stdout"
        }
      ]
    },
    {
      "metadata": {
        "id": "1c-SjuKegNAF",
        "colab_type": "code",
        "colab": {}
      },
      "cell_type": "code",
      "source": [
        "# Load the Drive helper and mount\n",
        "from google.colab import drive\n",
        "\n",
        "# This will proot for authorization\n",
        "drive.mount('/content/drive')\n",
        "\n",
        "import tensorflow as tf\n",
        "from tensorflow.keras.models import Sequential\n",
        "from tensorflow.keras.layers import Dense, Dropout, Activation, Flatten, Conv2D, MaxPooling2D\n",
        "from tensorflow.keras.callbacks import TensorBoard\n",
        "import pickle\n",
        "import time\n",
        "\n",
        "# NAME = \"Cats-vs-dog-cnn-64x2-{}\".format(int(time.time()))\n",
        "\n",
        "\n",
        "X = pickle.load(open(\"/content/drive/My Drive/Colab Notebooks/cnn_own_data/X.pickle\", \"rb\"))\n",
        "y = pickle.load(open(\"/content/drive/My Drive/Colab Notebooks/cnn_own_data/y.pickle\", \"rb\"))\n",
        "\n",
        "X = X/255.0\n",
        "\n",
        "dense_layers = [0, 1, 2]\n",
        "layer_sizes = [32, 64, 128]\n",
        "conv_layers = [1, 2, 3]\n",
        "\n",
        "for dense_layer in dense_layers:\n",
        "  for layer_size in layer_sizes:\n",
        "    for conv_layer in conv_layers:\n",
        "      NAME = \"{}-conv-{}-nodes-{}-dense-{}\".format(conv_layer, layer_size, dense_layer, int(time.time()))\n",
        "      print(NAME)\n",
        "      tensorboard = TensorBoard(log_dir='/tmp/log/{}'.format(NAME)) # TensorBoard(log_dir='logs/{}'.format(NAME))\n",
        "      \n",
        "      model = Sequential()\n",
        "      \n",
        "      model.add(Conv2D(layer_size, (3,3), input_shape=X.shape[1:]))\n",
        "      model.add(Activation(\"relu\"))\n",
        "      model.add(MaxPooling2D(pool_size=(2,2)))\n",
        "      \n",
        "      for l in range(conv_layer-1):\n",
        "        model.add(Conv2D(layer_size, (3,3)))\n",
        "        model.add(Activation(\"relu\"))\n",
        "        model.add(MaxPooling2D(pool_size=(2,2)))\n",
        "      \n",
        "      model.add(Flatten()) # this converts our 3D feature maps to 1D feature vectors\n",
        "      for l in range(dense_layer):\n",
        "        model.add(Dense(layer_size))\n",
        "        model.add(Activation('relu'))\n",
        "\n",
        "      model.add(Dense(1))\n",
        "      model.add(Activation(\"sigmoid\"))\n",
        "\n",
        "      model.compile(loss=\"binary_crossentropy\",\n",
        "              optimizer=\"adam\",\n",
        "              metrics=['accuracy'])\n",
        "\n",
        "      model.fit(X, y, batch_size=32, epochs=10, validation_split=0.1, callbacks=[tensorboard])\n",
        "\n",
        "'''\n",
        "Best versions of the conv network (used tensorboard to analyze data)\n",
        "3 conv, 64 nodes per layer, 0 dense\n",
        "3 conv, 128 nodes per layer, 0 dense\n",
        "3 conv, 32 nodes per layer, 0 dense\n",
        "3 conv, 32 nodes per layer, 2 dense\n",
        "3 conv, 32 nodes per layer, 1 dense\n",
        "2 conv, 32 nodes per layer, 0 dense\n",
        "2 conv, 64 nodes per layer, 0 dense\n",
        "3 conv, 128 nodes per layer, 1 dense\n",
        "2 conv, 128 nodes per layer, 0 dense\n",
        "2 conv, 32 nodes per layer, 1 dense\n",
        "'''"
      ],
      "execution_count": 0,
      "outputs": []
    }
  ]
}