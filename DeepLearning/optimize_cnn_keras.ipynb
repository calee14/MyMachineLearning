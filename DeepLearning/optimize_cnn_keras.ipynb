{
  "nbformat": 4,
  "nbformat_minor": 0,
  "metadata": {
    "colab": {
      "name": "optimize_cnn_keras.ipynb",
      "version": "0.3.2",
      "provenance": [],
      "collapsed_sections": []
    },
    "kernelspec": {
      "name": "python3",
      "display_name": "Python 3"
    },
    "accelerator": "GPU"
  },
  "cells": [
    {
      "metadata": {
        "id": "fHlgQKo2Gkh0",
        "colab_type": "code",
        "colab": {
          "base_uri": "https://localhost:8080/",
          "height": 102
        },
        "outputId": "5201b4ae-d39e-4ff6-f294-697e14936828"
      },
      "cell_type": "code",
      "source": [
        "# Get tensorboard running in the background\n",
        "LOG_DIR = '/tmp/log'\n",
        "get_ipython().system_raw(\n",
        "    'tensorboard --logdir {} --host 0.0.0.0 --port 6006 &'\n",
        "    .format(LOG_DIR)\n",
        ")\n",
        "\n",
        "# Download and unzip ngrok\n",
        "! wget https://bin.equinox.io/c/4VmDzA7iaHb/ngrok-stable-linux-amd64.zip\n",
        "! unzip ngrok-stable-linux-amd64.zip\n",
        "\n",
        "# Launch ngrok background process\n",
        "get_ipython().system_raw('./ngrok http 6006 &')\n",
        "\n",
        "# Retrive public url\n",
        "! curl -s http://localhost:4040/api/tunnels | python3 -c \\\n",
        "    \"import sys, json; print(json.load(sys.stdin)['tunnels'][0]['public_url'])\""
      ],
      "execution_count": 7,
      "outputs": [
        {
          "output_type": "stream",
          "text": [
            "\n",
            "Redirecting output to ‘wget-log’.\n",
            "Archive:  ngrok-stable-linux-amd64.zip\n",
            "  inflating: ngrok                   \n",
            "https://1c743d52.ngrok.io\n"
          ],
          "name": "stdout"
        }
      ]
    },
    {
      "metadata": {
        "id": "1c-SjuKegNAF",
        "colab_type": "code",
        "colab": {
          "base_uri": "https://localhost:8080/",
          "height": 428
        },
        "outputId": "7f76cd65-422d-46fc-f9c9-f4b06e77e312"
      },
      "cell_type": "code",
      "source": [
        "# Load the Drive helper and mount\n",
        "from google.colab import drive\n",
        "\n",
        "# This will proot for authorization\n",
        "drive.mount('/content/drive')\n",
        "\n",
        "import tensorflow as tf\n",
        "from tensorflow.keras.models import Sequential\n",
        "from tensorflow.keras.layers import Dense, Dropout, Activation, Flatten, Conv2D, MaxPooling2D\n",
        "from tensorflow.keras.callbacks import TensorBoard\n",
        "import pickle\n",
        "import time\n",
        "\n",
        "NAME = \"Cats-vs-dog-cnn-64x2-{}\".format(int(time.time()))\n",
        "\n",
        "tensorboard = TensorBoard(log_dir='/tmp/log/{}'.format(NAME)) # TensorBoard(log_dir='logs/{}'.format(NAME))\n",
        "\n",
        "X = pickle.load(open(\"/content/drive/My Drive/Colab Notebooks/cnn_own_data/X.pickle\", \"rb\"))\n",
        "y = pickle.load(open(\"/content/drive/My Drive/Colab Notebooks/cnn_own_data/y.pickle\", \"rb\"))\n",
        "\n",
        "X = X/255.0\n",
        "\n",
        "model = Sequential()\n",
        "model.add(Conv2D(64, (3,3), input_shape = X.shape[1:]))\n",
        "model.add(Activation(\"relu\"))\n",
        "model.add(MaxPooling2D(pool_size=(2,2)))\n",
        "\n",
        "model.add(Conv2D(64, (3,3)))\n",
        "model.add(Activation(\"relu\"))\n",
        "model.add(MaxPooling2D(pool_size=(2,2)))\n",
        "\n",
        "model.add(Flatten()) # this converts our 3D feature maps to 1D feature vectors\n",
        "\n",
        "# model.add(Dense(64))\n",
        "# model.add(Activation(\"relu\"))\n",
        "\n",
        "model.add(Dense(1))\n",
        "model.add(Activation(\"sigmoid\"))\n",
        "\n",
        "model.compile(loss=\"binary_crossentropy\",\n",
        "\t\t\t  optimizer=\"adam\",\n",
        "\t\t\t  metrics=['accuracy'])\n",
        "\n",
        "model.fit(X, y, batch_size=32, epochs=10, validation_split=0.1, callbacks=[tensorboard])\n"
      ],
      "execution_count": 11,
      "outputs": [
        {
          "output_type": "stream",
          "text": [
            "Mounted at /content/drive\n",
            "Train on 22451 samples, validate on 2495 samples\n",
            "Epoch 1/10\n",
            "22451/22451 [==============================] - 12s 517us/step - loss: 0.6249 - acc: 0.6436 - val_loss: 0.5539 - val_acc: 0.7162\n",
            "Epoch 2/10\n",
            "22451/22451 [==============================] - 11s 498us/step - loss: 0.5286 - acc: 0.7370 - val_loss: 0.5135 - val_acc: 0.7443\n",
            "Epoch 3/10\n",
            "22451/22451 [==============================] - 11s 489us/step - loss: 0.4866 - acc: 0.7692 - val_loss: 0.4809 - val_acc: 0.7687\n",
            "Epoch 4/10\n",
            "22451/22451 [==============================] - 11s 489us/step - loss: 0.4613 - acc: 0.7860 - val_loss: 0.4690 - val_acc: 0.7800\n",
            "Epoch 5/10\n",
            "22451/22451 [==============================] - 11s 490us/step - loss: 0.4378 - acc: 0.7971 - val_loss: 0.4537 - val_acc: 0.7888\n",
            "Epoch 6/10\n",
            "22451/22451 [==============================] - 11s 494us/step - loss: 0.4189 - acc: 0.8088 - val_loss: 0.4610 - val_acc: 0.7852\n",
            "Epoch 7/10\n",
            "22451/22451 [==============================] - 11s 495us/step - loss: 0.4022 - acc: 0.8180 - val_loss: 0.4468 - val_acc: 0.7940\n",
            "Epoch 8/10\n",
            "22451/22451 [==============================] - 11s 493us/step - loss: 0.3839 - acc: 0.8276 - val_loss: 0.4476 - val_acc: 0.7928\n",
            "Epoch 9/10\n",
            "22451/22451 [==============================] - 11s 482us/step - loss: 0.3655 - acc: 0.8384 - val_loss: 0.4509 - val_acc: 0.7972\n",
            "Epoch 10/10\n",
            "22451/22451 [==============================] - 11s 490us/step - loss: 0.3519 - acc: 0.8428 - val_loss: 0.4450 - val_acc: 0.7952\n"
          ],
          "name": "stdout"
        },
        {
          "output_type": "execute_result",
          "data": {
            "text/plain": [
              "<tensorflow.python.keras.callbacks.History at 0x7f72f9e6c4a8>"
            ]
          },
          "metadata": {
            "tags": []
          },
          "execution_count": 11
        }
      ]
    }
  ]
}