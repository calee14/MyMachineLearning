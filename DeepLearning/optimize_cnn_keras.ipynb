{
  "nbformat": 4,
  "nbformat_minor": 0,
  "metadata": {
    "colab": {
      "name": "optimize_cnn_keras.ipynb",
      "version": "0.3.2",
      "provenance": [],
      "collapsed_sections": []
    },
    "kernelspec": {
      "name": "python3",
      "display_name": "Python 3"
    },
    "accelerator": "GPU"
  },
  "cells": [
    {
      "metadata": {
        "id": "fHlgQKo2Gkh0",
        "colab_type": "code",
        "colab": {
          "base_uri": "https://localhost:8080/",
          "height": 119
        },
        "outputId": "94b9349f-2189-4600-9547-d44e80c770d1"
      },
      "cell_type": "code",
      "source": [
        "# Get tensorboard running in the background\n",
        "LOG_DIR = '/tmp/log'\n",
        "get_ipython().system_raw(\n",
        "    'tensorboard --logdir {} --host 0.0.0.0 --port 6006 &'\n",
        "    .format(LOG_DIR)\n",
        ")\n",
        "\n",
        "# Download and unzip ngrok\n",
        "! wget https://bin.equinox.io/c/4VmDzA7iaHb/ngrok-stable-linux-amd64.zip\n",
        "! unzip ngrok-stable-linux-amd64.zip\n",
        "\n",
        "# Launch ngrok background process\n",
        "get_ipython().system_raw('./ngrok http 6006 &')\n",
        "\n",
        "# Retrive public url\n",
        "! curl -s http://localhost:4040/api/tunnels | python3 -c \\\n",
        "    \"import sys, json; print(json.load(sys.stdin)['tunnels'][0]['public_url'])\""
      ],
      "execution_count": 2,
      "outputs": [
        {
          "output_type": "stream",
          "text": [
            "\n",
            "Redirecting output to ‘wget-log.1’.\n",
            "Archive:  ngrok-stable-linux-amd64.zip\n",
            "replace ngrok? [y]es, [n]o, [A]ll, [N]one, [r]ename: y\n",
            "  inflating: ngrok                   \n",
            "http://79df091e.ngrok.io\n"
          ],
          "name": "stdout"
        }
      ]
    },
    {
      "metadata": {
        "id": "1c-SjuKegNAF",
        "colab_type": "code",
        "colab": {
          "base_uri": "https://localhost:8080/",
          "height": 462
        },
        "outputId": "83ebfff8-f1a3-4c31-ce5e-92634b8b56fd"
      },
      "cell_type": "code",
      "source": [
        "# Load the Drive helper and mount\n",
        "from google.colab import drive\n",
        "\n",
        "# This will proot for authorization\n",
        "drive.mount('/content/drive')\n",
        "\n",
        "import tensorflow as tf\n",
        "from tensorflow.keras.models import Sequential\n",
        "from tensorflow.keras.layers import Dense, Dropout, Activation, Flatten, Conv2D, MaxPooling2D\n",
        "from tensorflow.keras.callbacks import TensorBoard\n",
        "import pickle\n",
        "import time\n",
        "\n",
        "# NAME = \"Cats-vs-dog-cnn-64x2-{}\".format(int(time.time()))\n",
        "\n",
        "\n",
        "X = pickle.load(open(\"/content/drive/My Drive/Colab Notebooks/cnn_own_data/X.pickle\", \"rb\"))\n",
        "y = pickle.load(open(\"/content/drive/My Drive/Colab Notebooks/cnn_own_data/y.pickle\", \"rb\"))\n",
        "\n",
        "X = X/255.0\n",
        "\n",
        "dense_layers = [0] # [0, 1, 2]\n",
        "layer_sizes = [64] # [32, 64, 128]\n",
        "conv_layers = [3] # [1, 2, 3]\n",
        "\n",
        "for dense_layer in dense_layers:\n",
        "  for layer_size in layer_sizes:\n",
        "    for conv_layer in conv_layers:\n",
        "      NAME = \"{}-conv-{}-nodes-{}-dense-{}\".format(conv_layer, layer_size, dense_layer, int(time.time()))\n",
        "      print(NAME)\n",
        "      tensorboard = TensorBoard(log_dir='/tmp/log/{}'.format(NAME)) # TensorBoard(log_dir='logs/{}'.format(NAME))\n",
        "      \n",
        "      model = Sequential()\n",
        "      \n",
        "      model.add(Conv2D(layer_size, (3,3), input_shape=X.shape[1:]))\n",
        "      model.add(Activation(\"relu\"))\n",
        "      model.add(MaxPooling2D(pool_size=(2,2)))\n",
        "      \n",
        "      for l in range(conv_layer-1):\n",
        "        model.add(Conv2D(layer_size, (3,3)))\n",
        "        model.add(Activation(\"relu\"))\n",
        "        model.add(MaxPooling2D(pool_size=(2,2)))\n",
        "      \n",
        "      model.add(Flatten()) # this converts our 3D feature maps to 1D feature vectors\n",
        "      for l in range(dense_layer):\n",
        "        model.add(Dense(layer_size))\n",
        "        model.add(Activation('relu'))\n",
        "\n",
        "      model.add(Dense(1))\n",
        "      model.add(Activation(\"sigmoid\"))\n",
        "\n",
        "      model.compile(loss=\"binary_crossentropy\",\n",
        "              optimizer=\"adam\",\n",
        "              metrics=['accuracy'])\n",
        "\n",
        "      model.fit(X, y, batch_size=32, epochs=32, validation_split=0.1, callbacks=[tensorboard])\n",
        "\n",
        "model.save('/content/drive/My Drive/Colab Notebooks/cnn_own_data/64x3-CNN.model') # model.save('64x3-CNN.model')\n",
        "'''\n",
        "Best versions of the conv network (used tensorboard to analyze data)\n",
        "3 conv, 64 nodes per layer, 0 dense\n",
        "3 conv, 128 nodes per layer, 0 dense\n",
        "3 conv, 32 nodes per layer, 0 dense\n",
        "3 conv, 32 nodes per layer, 2 dense\n",
        "3 conv, 32 nodes per layer, 1 dense\n",
        "2 conv, 32 nodes per layer, 0 dense\n",
        "2 conv, 64 nodes per layer, 0 dense\n",
        "3 conv, 128 nodes per layer, 1 dense\n",
        "2 conv, 128 nodes per layer, 0 dense\n",
        "2 conv, 32 nodes per layer, 1 dense\n",
        "'''"
      ],
      "execution_count": 0,
      "outputs": [
        {
          "output_type": "stream",
          "text": [
            "Mounted at /content/drive\n",
            "3-conv-64-nodes-0-dense-1539049257\n",
            "Train on 22451 samples, validate on 2495 samples\n",
            "Epoch 1/32\n",
            "22451/22451 [==============================] - 11s 511us/step - loss: 0.6373 - acc: 0.6267 - val_loss: 0.5814 - val_acc: 0.6978\n",
            "Epoch 2/32\n",
            "22451/22451 [==============================] - 11s 483us/step - loss: 0.5369 - acc: 0.7332 - val_loss: 0.4968 - val_acc: 0.7635\n",
            "Epoch 3/32\n",
            "22451/22451 [==============================] - 11s 491us/step - loss: 0.4800 - acc: 0.7718 - val_loss: 0.4846 - val_acc: 0.7663\n",
            "Epoch 4/32\n",
            "22451/22451 [==============================] - 11s 480us/step - loss: 0.4382 - acc: 0.7949 - val_loss: 0.4409 - val_acc: 0.8000\n",
            "Epoch 5/32\n",
            "22451/22451 [==============================] - 11s 477us/step - loss: 0.4036 - acc: 0.8161 - val_loss: 0.4303 - val_acc: 0.8076\n",
            "Epoch 6/32\n",
            "22451/22451 [==============================] - 11s 488us/step - loss: 0.3718 - acc: 0.8311 - val_loss: 0.4242 - val_acc: 0.8080\n",
            "Epoch 7/32\n",
            "22451/22451 [==============================] - 11s 483us/step - loss: 0.3445 - acc: 0.8480 - val_loss: 0.4060 - val_acc: 0.8156\n",
            "Epoch 8/32\n",
            "22451/22451 [==============================] - 11s 488us/step - loss: 0.3214 - acc: 0.8591 - val_loss: 0.3891 - val_acc: 0.8196\n",
            "Epoch 9/32\n",
            "22451/22451 [==============================] - 11s 476us/step - loss: 0.3015 - acc: 0.8690 - val_loss: 0.3946 - val_acc: 0.8273\n",
            "Epoch 10/32\n",
            "22451/22451 [==============================] - 11s 475us/step - loss: 0.2784 - acc: 0.8817 - val_loss: 0.4158 - val_acc: 0.8096\n",
            "Epoch 11/32\n",
            "  672/22451 [..............................] - ETA: 9s - loss: 0.2479 - acc: 0.8988 "
          ],
          "name": "stdout"
        }
      ]
    }
  ]
}