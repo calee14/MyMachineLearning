{
  "nbformat": 4,
  "nbformat_minor": 0,
  "metadata": {
    "colab": {
      "name": "transpose_example.ipynb",
      "version": "0.3.2",
      "provenance": []
    }
  },
  "cells": [
    {
      "metadata": {
        "id": "JgMcNehCQvGM",
        "colab_type": "code",
        "colab": {
          "base_uri": "https://localhost:8080/",
          "height": 102
        },
        "outputId": "9b6bd815-09cb-4944-bbdb-e1cf1e82046a"
      },
      "cell_type": "code",
      "source": [
        "import numpy as np\n",
        "\n",
        "x = np.ones((1,2,3))\n",
        "\n",
        "print(x)\n",
        "print(np.transpose(x,(1,0,2)))"
      ],
      "execution_count": 1,
      "outputs": [
        {
          "output_type": "stream",
          "text": [
            "[[[1. 1. 1.]\n",
            "  [1. 1. 1.]]]\n",
            "[[[1. 1. 1.]]\n",
            "\n",
            " [[1. 1. 1.]]]\n"
          ],
          "name": "stdout"
        }
      ]
    }
  ]
}