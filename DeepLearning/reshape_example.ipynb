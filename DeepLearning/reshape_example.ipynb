{
  "nbformat": 4,
  "nbformat_minor": 0,
  "metadata": {
    "colab": {
      "name": "reshape_example.ipynb",
      "version": "0.3.2",
      "provenance": []
    }
  },
  "cells": [
    {
      "metadata": {
        "id": "QQHjGeC6CgrG",
        "colab_type": "code",
        "colab": {
          "base_uri": "https://localhost:8080/",
          "height": 187
        },
        "outputId": "4100bcd4-f71e-4240-8161-258ca5d13bed"
      },
      "cell_type": "code",
      "source": [
        "import numpy as np\n",
        "\n",
        "x = np.ones((1,2,3))\n",
        "\n",
        "print(x)\n",
        "print(np.reshape(x,(3,2,1)))"
      ],
      "execution_count": 4,
      "outputs": [
        {
          "output_type": "stream",
          "text": [
            "[[[1. 1. 1.]\n",
            "  [1. 1. 1.]]]\n",
            "[[[1.]\n",
            "  [1.]]\n",
            "\n",
            " [[1.]\n",
            "  [1.]]\n",
            "\n",
            " [[1.]\n",
            "  [1.]]]\n"
          ],
          "name": "stdout"
        }
      ]
    }
  ]
}