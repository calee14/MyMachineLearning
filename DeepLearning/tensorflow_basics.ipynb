{
  "nbformat": 4,
  "nbformat_minor": 0,
  "metadata": {
    "colab": {
      "name": "TensorflowBasics.ipynb",
      "version": "0.3.2",
      "provenance": [],
      "collapsed_sections": [],
      "toc_visible": true
    },
    "kernelspec": {
      "name": "python3",
      "display_name": "Python 3"
    }
  },
  "cells": [
    {
      "metadata": {
        "id": "lpWJbY0k04E6",
        "colab_type": "code",
        "colab": {
          "base_uri": "https://localhost:8080/",
          "height": 51
        },
        "outputId": "88c5f80d-a7b8-4bac-8d70-1ea7864ab9db"
      },
      "cell_type": "code",
      "source": [
        "import tensorflow as tf\n",
        "\n",
        "x1 = tf.constant(5)\n",
        "x2 = tf.constant(6)\n",
        "\n",
        "result = tf.multiply(x1, x2)\n",
        "print(result)\n",
        "\n",
        "with tf.Session() as sess:\n",
        "  output = sess.run(result)\n",
        "  print(output)\n",
        "  "
      ],
      "execution_count": 5,
      "outputs": [
        {
          "output_type": "stream",
          "text": [
            "Tensor(\"Mul_3:0\", shape=(), dtype=int32)\n",
            "30\n"
          ],
          "name": "stdout"
        }
      ]
    }
  ]
}